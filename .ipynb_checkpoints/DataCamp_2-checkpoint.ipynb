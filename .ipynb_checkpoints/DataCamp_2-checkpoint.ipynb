{
 "cells": [
  {
   "cell_type": "code",
   "execution_count": 2,
   "id": "c115a3b7",
   "metadata": {},
   "outputs": [
    {
     "data": {
      "text/plain": [
       "'PythonData'"
      ]
     },
     "execution_count": 2,
     "metadata": {},
     "output_type": "execute_result"
    }
   ],
   "source": [
    "\"Python\" + \"Data\""
   ]
  },
  {
   "cell_type": "code",
   "execution_count": 3,
   "id": "94f88fd6",
   "metadata": {},
   "outputs": [
    {
     "data": {
      "text/plain": [
       "12.5"
      ]
     },
     "execution_count": 3,
     "metadata": {},
     "output_type": "execute_result"
    }
   ],
   "source": [
    "6+6.5"
   ]
  },
  {
   "cell_type": "code",
   "execution_count": 4,
   "id": "ed636c5c",
   "metadata": {},
   "outputs": [
    {
     "data": {
      "text/plain": [
       "8"
      ]
     },
     "execution_count": 4,
     "metadata": {},
     "output_type": "execute_result"
    }
   ],
   "source": [
    "bool(5)+7"
   ]
  },
  {
   "cell_type": "code",
   "execution_count": 5,
   "id": "52ab52dc",
   "metadata": {},
   "outputs": [
    {
     "data": {
      "text/plain": [
       "5"
      ]
     },
     "execution_count": 5,
     "metadata": {},
     "output_type": "execute_result"
    }
   ],
   "source": [
    "bool(1)*int(4.2)+1"
   ]
  },
  {
   "cell_type": "code",
   "execution_count": 8,
   "id": "cb476a4c",
   "metadata": {},
   "outputs": [
    {
     "data": {
      "text/plain": [
       "0"
      ]
     },
     "execution_count": 8,
     "metadata": {},
     "output_type": "execute_result"
    }
   ],
   "source": [
    "int(6/10)-bool(\"python\")+1"
   ]
  },
  {
   "cell_type": "code",
   "execution_count": 14,
   "id": "5f97478a",
   "metadata": {},
   "outputs": [
    {
     "name": "stdout",
     "output_type": "stream",
     "text": [
      "1\n",
      "['0', '2', '3', '4']\n"
     ]
    }
   ],
   "source": [
    "x = [\"1\", \"2\", \"3\", \"4\"]\n",
    "numbers = list (x)\n",
    "x[0] = \"0\"\n",
    "print(numbers [0])\n",
    "print(x)"
   ]
  },
  {
   "cell_type": "code",
   "execution_count": 16,
   "id": "72398c73",
   "metadata": {},
   "outputs": [
    {
     "name": "stdout",
     "output_type": "stream",
     "text": [
      "3\n"
     ]
    }
   ],
   "source": [
    "z=\"imagination\"\n",
    "print(z.count(\"i\"))"
   ]
  },
  {
   "cell_type": "code",
   "execution_count": 17,
   "id": "d5345cfc",
   "metadata": {},
   "outputs": [
    {
     "name": "stdout",
     "output_type": "stream",
     "text": [
      "6\n"
     ]
    }
   ],
   "source": [
    "q = [20, 11, 48, 1, 17, 47]\n",
    "print(len(q))"
   ]
  },
  {
   "cell_type": "code",
   "execution_count": 19,
   "id": "0de9f98c",
   "metadata": {},
   "outputs": [
    {
     "name": "stdout",
     "output_type": "stream",
     "text": [
      "['Winter', 'Spring', 'Summer', 'Fall']\n"
     ]
    }
   ],
   "source": [
    "x = [\"Winter\",\"Spring\"]\n",
    "y = [\"Summer\",\"Fall\"]\n",
    "print(x+y)"
   ]
  },
  {
   "cell_type": "code",
   "execution_count": 20,
   "id": "e2a31cab",
   "metadata": {},
   "outputs": [
    {
     "name": "stdout",
     "output_type": "stream",
     "text": [
      "1296\n"
     ]
    }
   ],
   "source": [
    "x = 6\n",
    "y = 4\n",
    "print(x ** y)"
   ]
  },
  {
   "cell_type": "code",
   "execution_count": 21,
   "id": "3f98c896",
   "metadata": {},
   "outputs": [
    {
     "name": "stdout",
     "output_type": "stream",
     "text": [
      "Help on built-in function len in module builtins:\n",
      "\n",
      "len(obj, /)\n",
      "    Return the number of items in a container.\n",
      "\n"
     ]
    }
   ],
   "source": [
    "help(len)"
   ]
  },
  {
   "cell_type": "code",
   "execution_count": 23,
   "id": "ed66df0b",
   "metadata": {},
   "outputs": [
    {
     "name": "stdout",
     "output_type": "stream",
     "text": [
      "['e', 'a', 'b']\n",
      "['g', 'b']\n"
     ]
    }
   ],
   "source": [
    "x = [\"e\",\"a\",\"b\"]\n",
    "y = x[1:]\n",
    "y[0] = \"g\"\n",
    "print(x)\n",
    "print(y)"
   ]
  },
  {
   "cell_type": "code",
   "execution_count": 24,
   "id": "169f2018",
   "metadata": {},
   "outputs": [
    {
     "name": "stdout",
     "output_type": "stream",
     "text": [
      "['Introduction', 'Python', 'DataCamp', 'R', 'SQL']\n"
     ]
    }
   ],
   "source": [
    "practice = [\"Introduction\",\"Python\",\"DataCamp\", \"R\", \"SQL\", \"Data Science\"]\n",
    "x = -6\n",
    "y = -1\n",
    "print(practice[x:y])"
   ]
  },
  {
   "cell_type": "code",
   "execution_count": 29,
   "id": "ab384fa9",
   "metadata": {},
   "outputs": [
    {
     "name": "stdout",
     "output_type": "stream",
     "text": [
      "[False False False False False]\n"
     ]
    }
   ],
   "source": [
    "import numpy as np\n",
    "x = np.array ([1, 6, 3, 1, 7])\n",
    "bool_x = x == 5\n",
    "print(bool_x)"
   ]
  },
  {
   "cell_type": "code",
   "execution_count": 30,
   "id": "4036d845",
   "metadata": {},
   "outputs": [
    {
     "data": {
      "text/plain": [
       "array([[2, 0],\n",
       "       [4, 0]])"
      ]
     },
     "execution_count": 30,
     "metadata": {},
     "output_type": "execute_result"
    }
   ],
   "source": [
    "import numpy as np\n",
    "np_2d = np.array([[2,3],[4,5]])\n",
    "np_2d * np.array([1,0])"
   ]
  },
  {
   "cell_type": "code",
   "execution_count": 39,
   "id": "1541bdd6",
   "metadata": {},
   "outputs": [
    {
     "name": "stdout",
     "output_type": "stream",
     "text": [
      "[9, 2, 8, 4]\n"
     ]
    }
   ],
   "source": [
    "x = [9, 2, 8, 4, 5]\n",
    "del(x[4])\n",
    "print(x)"
   ]
  },
  {
   "cell_type": "code",
   "execution_count": 35,
   "id": "abae846c",
   "metadata": {},
   "outputs": [
    {
     "data": {
      "text/plain": [
       "<function str.capitalize()>"
      ]
     },
     "execution_count": 35,
     "metadata": {},
     "output_type": "execute_result"
    }
   ],
   "source": [
    "\"python\".capitalize"
   ]
  },
  {
   "cell_type": "code",
   "execution_count": 36,
   "id": "a412cee3",
   "metadata": {},
   "outputs": [
    {
     "data": {
      "text/plain": [
       "'Python'"
      ]
     },
     "execution_count": 36,
     "metadata": {},
     "output_type": "execute_result"
    }
   ],
   "source": [
    "str.capitalize(\"python\")"
   ]
  },
  {
   "cell_type": "code",
   "execution_count": 42,
   "id": "f71e0110",
   "metadata": {},
   "outputs": [
    {
     "name": "stdout",
     "output_type": "stream",
     "text": [
      "[2]\n"
     ]
    }
   ],
   "source": [
    "import numpy as np\n",
    "store = np.array([\"X\", \"Z\", \"Z\", \"Z\"])\n",
    "cost  = np.array([2, 6, 5, 2])\n",
    "select_cost = cost[store == \"X\"]\n",
    "print(select_cost)"
   ]
  },
  {
   "cell_type": "code",
   "execution_count": 45,
   "id": "0ccb8015",
   "metadata": {},
   "outputs": [
    {
     "name": "stdout",
     "output_type": "stream",
     "text": [
      "[[1.         0.92155064]\n",
      " [0.92155064 1.        ]]\n"
     ]
    }
   ],
   "source": [
    "import numpy as np\n",
    "np_heights = np.array([[1.60,1.75],[1.56,1.70],[1.49,1.68]])\n",
    "print(np.corrcoef(np_heights[:,0], np_heights[:,1]))"
   ]
  },
  {
   "cell_type": "code",
   "execution_count": 47,
   "id": "a84bfbc9",
   "metadata": {},
   "outputs": [
    {
     "name": "stdout",
     "output_type": "stream",
     "text": [
      "[15, 10, 2, 84, 1, 4, 8, 7, 9]\n"
     ]
    }
   ],
   "source": [
    "x = [15,10,2,84] + [1,4,8,7,9]\n",
    "print(x)"
   ]
  },
  {
   "cell_type": "code",
   "execution_count": 48,
   "id": "d647a861",
   "metadata": {},
   "outputs": [
    {
     "data": {
      "text/plain": [
       "1"
      ]
     },
     "execution_count": 48,
     "metadata": {},
     "output_type": "execute_result"
    }
   ],
   "source": [
    "x.count(x[0])"
   ]
  },
  {
   "cell_type": "code",
   "execution_count": 49,
   "id": "32f8384e",
   "metadata": {},
   "outputs": [
    {
     "data": {
      "text/plain": [
       "4"
      ]
     },
     "execution_count": 49,
     "metadata": {},
     "output_type": "execute_result"
    }
   ],
   "source": [
    "x.index(x.count(x[0]))"
   ]
  },
  {
   "cell_type": "code",
   "execution_count": null,
   "id": "ef1fc3ab",
   "metadata": {},
   "outputs": [],
   "source": []
  }
 ],
 "metadata": {
  "kernelspec": {
   "display_name": "Python 3 (ipykernel)",
   "language": "python",
   "name": "python3"
  },
  "language_info": {
   "codemirror_mode": {
    "name": "ipython",
    "version": 3
   },
   "file_extension": ".py",
   "mimetype": "text/x-python",
   "name": "python",
   "nbconvert_exporter": "python",
   "pygments_lexer": "ipython3",
   "version": "3.9.7"
  }
 },
 "nbformat": 4,
 "nbformat_minor": 5
}
