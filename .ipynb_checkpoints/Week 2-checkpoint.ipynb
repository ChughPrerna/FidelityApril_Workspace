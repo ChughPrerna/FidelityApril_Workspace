{
 "cells": [
  {
   "cell_type": "code",
   "execution_count": 1,
   "id": "6017f99f",
   "metadata": {},
   "outputs": [],
   "source": [
    "var1 = [1,2,3,4]\n",
    "var2 = True"
   ]
  },
  {
   "cell_type": "code",
   "execution_count": 3,
   "id": "a0451488",
   "metadata": {},
   "outputs": [
    {
     "name": "stdout",
     "output_type": "stream",
     "text": [
      "<class 'list'>\n"
     ]
    }
   ],
   "source": [
    "print(type(var1))"
   ]
  },
  {
   "cell_type": "code",
   "execution_count": 4,
   "id": "3896d2bd",
   "metadata": {},
   "outputs": [
    {
     "name": "stdout",
     "output_type": "stream",
     "text": [
      "4\n"
     ]
    }
   ],
   "source": [
    "print(len(var1))"
   ]
  },
  {
   "cell_type": "code",
   "execution_count": 5,
   "id": "cf110f69",
   "metadata": {},
   "outputs": [],
   "source": [
    "out2 = int(var2)"
   ]
  },
  {
   "cell_type": "code",
   "execution_count": 7,
   "id": "3d84d211",
   "metadata": {},
   "outputs": [
    {
     "name": "stdout",
     "output_type": "stream",
     "text": [
      "1\n"
     ]
    }
   ],
   "source": [
    "print(out2)"
   ]
  },
  {
   "cell_type": "code",
   "execution_count": 8,
   "id": "ad9f545f",
   "metadata": {},
   "outputs": [],
   "source": [
    "first = [11.25,18.0,20.0]\n",
    "second = [10.75,9.50]"
   ]
  },
  {
   "cell_type": "code",
   "execution_count": 9,
   "id": "cf1f7786",
   "metadata": {},
   "outputs": [],
   "source": [
    "full = first+second"
   ]
  },
  {
   "cell_type": "code",
   "execution_count": 10,
   "id": "4f003617",
   "metadata": {},
   "outputs": [],
   "source": [
    "full_sorted = sorted(full,key=None,reverse=True)"
   ]
  },
  {
   "cell_type": "code",
   "execution_count": 11,
   "id": "e2b9947e",
   "metadata": {},
   "outputs": [
    {
     "name": "stdout",
     "output_type": "stream",
     "text": [
      "[20.0, 18.0, 11.25, 10.75, 9.5]\n"
     ]
    }
   ],
   "source": [
    "print(full_sorted)"
   ]
  },
  {
   "cell_type": "code",
   "execution_count": 12,
   "id": "3076a781",
   "metadata": {},
   "outputs": [
    {
     "name": "stdout",
     "output_type": "stream",
     "text": [
      "[11.25, 18.0, 20.0, 10.75, 9.5]\n"
     ]
    }
   ],
   "source": [
    "print(full)"
   ]
  },
  {
   "cell_type": "code",
   "execution_count": 13,
   "id": "6f1b19be",
   "metadata": {},
   "outputs": [],
   "source": [
    "place = \"poolhouse\""
   ]
  },
  {
   "cell_type": "code",
   "execution_count": 14,
   "id": "c86a9a93",
   "metadata": {},
   "outputs": [],
   "source": [
    "place_up = place.upper()"
   ]
  },
  {
   "cell_type": "code",
   "execution_count": 18,
   "id": "4d6b70d8",
   "metadata": {},
   "outputs": [
    {
     "name": "stdout",
     "output_type": "stream",
     "text": [
      "poolhouse\n"
     ]
    }
   ],
   "source": [
    "print(place)"
   ]
  },
  {
   "cell_type": "code",
   "execution_count": 23,
   "id": "28da91b6",
   "metadata": {},
   "outputs": [
    {
     "name": "stdout",
     "output_type": "stream",
     "text": [
      "POOLHOUSE\n"
     ]
    }
   ],
   "source": [
    "print(place_up)"
   ]
  },
  {
   "cell_type": "code",
   "execution_count": 27,
   "id": "d4b6e1f6",
   "metadata": {},
   "outputs": [
    {
     "name": "stdout",
     "output_type": "stream",
     "text": [
      "3\n"
     ]
    }
   ],
   "source": [
    "print(place.count(\"o\"))"
   ]
  },
  {
   "cell_type": "code",
   "execution_count": 28,
   "id": "75b9a3cb",
   "metadata": {},
   "outputs": [
    {
     "data": {
      "text/plain": [
       "2"
      ]
     },
     "execution_count": 28,
     "metadata": {},
     "output_type": "execute_result"
    }
   ],
   "source": [
    "full.index(20)"
   ]
  },
  {
   "cell_type": "code",
   "execution_count": 29,
   "id": "d0c3a076",
   "metadata": {},
   "outputs": [
    {
     "name": "stdout",
     "output_type": "stream",
     "text": [
      "1\n"
     ]
    }
   ],
   "source": [
    "print(full.count(9.50))"
   ]
  },
  {
   "cell_type": "code",
   "execution_count": 30,
   "id": "8d2ad94f",
   "metadata": {},
   "outputs": [],
   "source": [
    "full.append(24.5)"
   ]
  },
  {
   "cell_type": "code",
   "execution_count": 31,
   "id": "6681ba4a",
   "metadata": {},
   "outputs": [],
   "source": [
    "full.append(15.45)"
   ]
  },
  {
   "cell_type": "code",
   "execution_count": 32,
   "id": "a093e38c",
   "metadata": {},
   "outputs": [
    {
     "name": "stdout",
     "output_type": "stream",
     "text": [
      "[11.25, 18.0, 20.0, 10.75, 9.5, 24.5, 15.45]\n"
     ]
    }
   ],
   "source": [
    "print(full)"
   ]
  },
  {
   "cell_type": "code",
   "execution_count": 33,
   "id": "d9ccb600",
   "metadata": {},
   "outputs": [],
   "source": [
    "full.reverse()"
   ]
  },
  {
   "cell_type": "code",
   "execution_count": 34,
   "id": "2a586ab1",
   "metadata": {},
   "outputs": [
    {
     "name": "stdout",
     "output_type": "stream",
     "text": [
      "[15.45, 24.5, 9.5, 10.75, 20.0, 18.0, 11.25]\n"
     ]
    }
   ],
   "source": [
    "print(full)"
   ]
  },
  {
   "cell_type": "code",
   "execution_count": null,
   "id": "28612e33",
   "metadata": {},
   "outputs": [],
   "source": []
  }
 ],
 "metadata": {
  "kernelspec": {
   "display_name": "Python 3 (ipykernel)",
   "language": "python",
   "name": "python3"
  },
  "language_info": {
   "codemirror_mode": {
    "name": "ipython",
    "version": 3
   },
   "file_extension": ".py",
   "mimetype": "text/x-python",
   "name": "python",
   "nbconvert_exporter": "python",
   "pygments_lexer": "ipython3",
   "version": "3.9.7"
  }
 },
 "nbformat": 4,
 "nbformat_minor": 5
}
