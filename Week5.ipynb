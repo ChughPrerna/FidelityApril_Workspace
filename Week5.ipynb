{
 "cells": [
  {
   "cell_type": "markdown",
   "id": "6ce55d12",
   "metadata": {},
   "source": [
    "Regular Expression"
   ]
  },
  {
   "cell_type": "code",
   "execution_count": 3,
   "id": "faf70acc",
   "metadata": {},
   "outputs": [],
   "source": [
    "import re"
   ]
  },
  {
   "cell_type": "code",
   "execution_count": 8,
   "id": "cb08c4eb",
   "metadata": {},
   "outputs": [
    {
     "data": {
      "text/plain": [
       "['#Excited', '#Excited']"
      ]
     },
     "execution_count": 8,
     "metadata": {},
     "output_type": "execute_result"
    }
   ],
   "source": [
    "a=\"I am so #Excited to present this certificate. Are you #Excited to receive it?\"\n",
    "re.findall(\"#Excited\",a)"
   ]
  },
  {
   "cell_type": "code",
   "execution_count": 10,
   "id": "8f616724",
   "metadata": {},
   "outputs": [
    {
     "data": {
      "text/plain": [
       "['Nice place', ' We should come back here', ' What do you say?']"
      ]
     },
     "execution_count": 10,
     "metadata": {},
     "output_type": "execute_result"
    }
   ],
   "source": [
    "b=\"Nice place! We should come back here! What do you say?\"\n",
    "re.split(\"!\",b)"
   ]
  },
  {
   "cell_type": "code",
   "execution_count": 11,
   "id": "6c05b4a6",
   "metadata": {},
   "outputs": [
    {
     "data": {
      "text/plain": [
       "'I have a Yellow dress'"
      ]
     },
     "execution_count": 11,
     "metadata": {},
     "output_type": "execute_result"
    }
   ],
   "source": [
    "c=\"I have a Pink dress\"\n",
    "re.sub(\"Pink\",\"Yellow\",c)"
   ]
  },
  {
   "cell_type": "code",
   "execution_count": null,
   "id": "5cbc7c9d",
   "metadata": {},
   "outputs": [],
   "source": []
  }
 ],
 "metadata": {
  "kernelspec": {
   "display_name": "Python 3 (ipykernel)",
   "language": "python",
   "name": "python3"
  },
  "language_info": {
   "codemirror_mode": {
    "name": "ipython",
    "version": 3
   },
   "file_extension": ".py",
   "mimetype": "text/x-python",
   "name": "python",
   "nbconvert_exporter": "python",
   "pygments_lexer": "ipython3",
   "version": "3.9.7"
  }
 },
 "nbformat": 4,
 "nbformat_minor": 5
}
