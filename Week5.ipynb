{
 "cells": [
  {
   "cell_type": "markdown",
   "id": "6ce55d12",
   "metadata": {},
   "source": [
    "Regular Expression"
   ]
  },
  {
   "cell_type": "code",
   "execution_count": 2,
   "id": "faf70acc",
   "metadata": {},
   "outputs": [],
   "source": [
    "import re"
   ]
  },
  {
   "cell_type": "code",
   "execution_count": 3,
   "id": "cb08c4eb",
   "metadata": {},
   "outputs": [
    {
     "data": {
      "text/plain": [
       "['#Excited', '#Excited']"
      ]
     },
     "execution_count": 3,
     "metadata": {},
     "output_type": "execute_result"
    }
   ],
   "source": [
    "a=\"I am so #Excited to present this certificate. Are you #Excited to receive it?\"\n",
    "re.findall(\"#Excited\",a)"
   ]
  },
  {
   "cell_type": "code",
   "execution_count": 4,
   "id": "8f616724",
   "metadata": {},
   "outputs": [
    {
     "data": {
      "text/plain": [
       "['Nice place', ' We should come back here', ' What do you say?']"
      ]
     },
     "execution_count": 4,
     "metadata": {},
     "output_type": "execute_result"
    }
   ],
   "source": [
    "b=\"Nice place! We should come back here! What do you say?\"\n",
    "re.split(\"!\",b)"
   ]
  },
  {
   "cell_type": "code",
   "execution_count": 5,
   "id": "6c05b4a6",
   "metadata": {},
   "outputs": [
    {
     "data": {
      "text/plain": [
       "'I have a Yellow dress'"
      ]
     },
     "execution_count": 5,
     "metadata": {},
     "output_type": "execute_result"
    }
   ],
   "source": [
    "c=\"I have a Pink dress\"\n",
    "re.sub(\"Pink\",\"Yellow\",c)"
   ]
  },
  {
   "cell_type": "code",
   "execution_count": 6,
   "id": "5cbc7c9d",
   "metadata": {},
   "outputs": [
    {
     "data": {
      "text/plain": [
       "['User9', 'UserN', 'User8']"
      ]
     },
     "execution_count": 6,
     "metadata": {},
     "output_type": "execute_result"
    }
   ],
   "source": [
    "d=\"The winners are:User9,UserN,User8\"\n",
    "re.findall(\"User\\w\",d)"
   ]
  },
  {
   "cell_type": "code",
   "execution_count": 7,
   "id": "1db10b18",
   "metadata": {},
   "outputs": [
    {
     "data": {
      "text/plain": [
       "['User9', 'User8']"
      ]
     },
     "execution_count": 7,
     "metadata": {},
     "output_type": "execute_result"
    }
   ],
   "source": [
    "d=\"The winners are:User9,UserN,User8\"\n",
    "re.findall(\"User\\d\",d)"
   ]
  },
  {
   "cell_type": "code",
   "execution_count": 8,
   "id": "0bf23b57",
   "metadata": {},
   "outputs": [
    {
     "data": {
      "text/plain": [
       "['UserN']"
      ]
     },
     "execution_count": 8,
     "metadata": {},
     "output_type": "execute_result"
    }
   ],
   "source": [
    "d=\"The winners are:User9,UserN,User8\"\n",
    "re.findall(\"User\\D\",d)"
   ]
  },
  {
   "cell_type": "code",
   "execution_count": 9,
   "id": "e9744318",
   "metadata": {},
   "outputs": [
    {
     "data": {
      "text/plain": [
       "['$1', '$2', '$3']"
      ]
     },
     "execution_count": 9,
     "metadata": {},
     "output_type": "execute_result"
    }
   ],
   "source": [
    "e=\"The price is:$1,$2,$3\"\n",
    "re.findall(\"\\W\\d\",e)"
   ]
  },
  {
   "cell_type": "code",
   "execution_count": 10,
   "id": "0006e394",
   "metadata": {},
   "outputs": [
    {
     "data": {
      "text/plain": [
       "['$10', '$200', '$3']"
      ]
     },
     "execution_count": 10,
     "metadata": {},
     "output_type": "execute_result"
    }
   ],
   "source": [
    "f=\"The price is:$10,$200,$3\"\n",
    "re.findall(\"\\W\\d+\",f)"
   ]
  },
  {
   "cell_type": "code",
   "execution_count": 11,
   "id": "38b2e447",
   "metadata": {},
   "outputs": [
    {
     "data": {
      "text/plain": [
       "['price is']"
      ]
     },
     "execution_count": 11,
     "metadata": {},
     "output_type": "execute_result"
    }
   ],
   "source": [
    "f=\"The price is:$10 , $200 , $3\"\n",
    "re.findall(\"price\\sis\",f)"
   ]
  },
  {
   "cell_type": "code",
   "execution_count": 12,
   "id": "7f72cf4a",
   "metadata": {},
   "outputs": [
    {
     "data": {
      "text/plain": [
       "[]"
      ]
     },
     "execution_count": 12,
     "metadata": {},
     "output_type": "execute_result"
    }
   ],
   "source": [
    "f=\"The price is:$10 , $200 , $3\"\n",
    "re.findall(\"price\\Sis\",f)"
   ]
  },
  {
   "cell_type": "code",
   "execution_count": 15,
   "id": "3aed7c3a",
   "metadata": {},
   "outputs": [
    {
     "data": {
      "text/plain": [
       "['color', 'colour']"
      ]
     },
     "execution_count": 15,
     "metadata": {},
     "output_type": "execute_result"
    }
   ],
   "source": [
    "g=\"This is my color. Love this colour\"\n",
    "re.findall(\"colou?r\",g)"
   ]
  },
  {
   "cell_type": "code",
   "execution_count": 17,
   "id": "8c7f196b",
   "metadata": {},
   "outputs": [
    {
     "data": {
      "text/plain": [
       "['@John$']"
      ]
     },
     "execution_count": 17,
     "metadata": {},
     "output_type": "execute_result"
    }
   ],
   "source": [
    "h=\"This is @John$\"\n",
    "re.findall(\"@\\w*\\W\",h)"
   ]
  },
  {
   "cell_type": "code",
   "execution_count": 20,
   "id": "0b70c8b6",
   "metadata": {},
   "outputs": [
    {
     "data": {
      "text/plain": [
       "['4-3', '10-04']"
      ]
     },
     "execution_count": 20,
     "metadata": {},
     "output_type": "execute_result"
    }
   ],
   "source": [
    "re.findall(\"\\d+-\\d+\",\"start: 4-3, registration: 10-04\")"
   ]
  },
  {
   "cell_type": "code",
   "execution_count": 21,
   "id": "7e2e17d0",
   "metadata": {},
   "outputs": [
    {
     "data": {
      "text/plain": [
       "['+353-98765 4321']"
      ]
     },
     "execution_count": 21,
     "metadata": {},
     "output_type": "execute_result"
    }
   ],
   "source": [
    "re.findall(\"\\+\\d{3}-\\d{5}\\s\\d+\",\"+353-98765 4321\")"
   ]
  },
  {
   "cell_type": "code",
   "execution_count": 24,
   "id": "b5630919",
   "metadata": {},
   "outputs": [
    {
     "data": {
      "text/plain": [
       "['5-5-2021', '05-05-2021', '5/5/2021']"
      ]
     },
     "execution_count": 24,
     "metadata": {},
     "output_type": "execute_result"
    }
   ],
   "source": [
    "re.findall(\"\\d+\\W\\d+\\W\\d{4}\",\"5-5-2021 or 05-05-2021 or 5/5/2021\")"
   ]
  },
  {
   "cell_type": "code",
   "execution_count": 25,
   "id": "80ffeff1",
   "metadata": {},
   "outputs": [
    {
     "data": {
      "text/plain": [
       "['3.10', '2021']"
      ]
     },
     "execution_count": 25,
     "metadata": {},
     "output_type": "execute_result"
    }
   ],
   "source": [
    "re.findall(\"\\d+.\\d+\",\"Python 3.10 was released in 2021\")"
   ]
  }
 ],
 "metadata": {
  "kernelspec": {
   "display_name": "Python 3 (ipykernel)",
   "language": "python",
   "name": "python3"
  },
  "language_info": {
   "codemirror_mode": {
    "name": "ipython",
    "version": 3
   },
   "file_extension": ".py",
   "mimetype": "text/x-python",
   "name": "python",
   "nbconvert_exporter": "python",
   "pygments_lexer": "ipython3",
   "version": "3.9.7"
  }
 },
 "nbformat": 4,
 "nbformat_minor": 5
}
